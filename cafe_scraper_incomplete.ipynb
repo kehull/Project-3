{
 "cells": [
  {
   "cell_type": "code",
   "execution_count": 1,
   "metadata": {},
   "outputs": [],
   "source": [
    "import requests\n",
    "import pandas as pd\n",
    "from bs4 import BeautifulSoup\n",
    "from splinter import Browser\n",
    "from webdriver_manager.chrome import ChromeDriverManager\n",
    "from selenium import webdriver"
   ]
  },
  {
   "cell_type": "code",
   "execution_count": 2,
   "metadata": {},
   "outputs": [
    {
     "name": "stderr",
     "output_type": "stream",
     "text": [
      "[WDM] - ====== WebDriver manager ======\n",
      "[WDM] - Current google-chrome version is 90.0.4430\n",
      "[WDM] - Get LATEST driver version for 90.0.4430\n"
     ]
    },
    {
     "name": "stdout",
     "output_type": "stream",
     "text": [
      "\n",
      "\n"
     ]
    },
    {
     "name": "stderr",
     "output_type": "stream",
     "text": [
      "[WDM] - Driver [C:\\Users\\kelly\\.wdm\\drivers\\chromedriver\\win32\\90.0.4430.24\\chromedriver.exe] found in cache\n"
     ]
    }
   ],
   "source": [
    "executable_path = {'executable_path': ChromeDriverManager().install()}\n",
    "browser = Browser('chrome', **executable_path, headless=False)"
   ]
  },
  {
   "cell_type": "code",
   "execution_count": 3,
   "metadata": {},
   "outputs": [
    {
     "name": "stdout",
     "output_type": "stream",
     "text": [
      "name: 1. Starbucks\n",
      "address: 8023 Dale Ave\n",
      "address: 8023 Dale Ave\n",
      "name: 2. Starbucks\n",
      "address: 8450 Eager Rd\n",
      "address: 8450 Eager Rd\n",
      "name: 3. Starbucks\n",
      "address: 2300 S Brentwood Blvd\n",
      "address: 2300 S Brentwood Blvd\n",
      "name: 4. Starbucks\n",
      "name: 5. Starbucks\n",
      "address: 7036 Clayton Ave\n",
      "address: 7036 Clayton Ave\n",
      "name: 6. Starbucks\n",
      "address: 6622 Chippewa St\n",
      "address: 6622 Chippewa St\n",
      "name: 7. Starbucks\n",
      "address: 1 South Old Orchard\n",
      "address: 1 South Old Orchard\n",
      "name: 8. Starbucks\n",
      "name: 9. Starbucks - CLOSED\n",
      "address: 1155 St Louis Galleria Pkwy\n",
      "address: 1155 St Louis Galleria Pkwy\n",
      "name: 10. Starbucks\n",
      "address: 7645 Wydown Bovd\n",
      "address: 7645 Wydown Bovd\n"
     ]
    }
   ],
   "source": [
    "url = 'https://www.yelp.com/search?choq=1&find_desc=starbucks&find_loc=Saint+Louis%2C+MO&start='\n",
    "browser.visit(url)\n",
    "response = requests.get(url)\n",
    "soup = BeautifulSoup(response.content, 'lxml')\n",
    "pag = 10\n",
    "for item in soup.select('[class*=container]'):\n",
    "    try:\n",
    "        if item.find('h4'):\n",
    "            name = item.find('h4').get_text()\n",
    "            print(f'name: {name}')\n",
    "        for addr in item.find_all('address'):\n",
    "            print(f'address: {addr.text}')\n",
    "#             print(addr.next_sibling.text)\n",
    "    except Exception as e:\n",
    "        raise e\n",
    "        print('')\n",
    "    #need to paginate!\n",
    "# url = f'https://www.yelp.com/search?choq=1&find_desc=starbucks&find_loc=Saint+Louis%2C+MO&start={pag}'\n",
    "# print(url)\n",
    "# pag = pag+10\n",
    "# print(pag)"
   ]
  }
 ],
 "metadata": {
  "kernelspec": {
   "display_name": "Python 3",
   "language": "python",
   "name": "python3"
  },
  "language_info": {
   "codemirror_mode": {
    "name": "ipython",
    "version": 3
   },
   "file_extension": ".py",
   "mimetype": "text/x-python",
   "name": "python",
   "nbconvert_exporter": "python",
   "pygments_lexer": "ipython3",
   "version": "3.6.10"
  }
 },
 "nbformat": 4,
 "nbformat_minor": 4
}
